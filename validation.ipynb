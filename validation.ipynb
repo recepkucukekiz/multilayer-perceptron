{
 "cells": [
  {
   "cell_type": "code",
   "execution_count": 1,
   "metadata": {},
   "outputs": [],
   "source": [
    "import numpy as np\n",
    "import pandas as pd\n",
    "import matplotlib.pyplot as plt\n",
    "\n",
    "xlsx = pd.ExcelFile('DataForPerceptron.xlsx')\n",
    "train_data = pd.read_excel(xlsx, 'TRAINData', index_col=None)\n",
    "\n",
    "x_train = train_data.drop(['SubjectID', 'Class'], axis=1)\n",
    "y_train = train_data['Class']\n"
   ]
  },
  {
   "cell_type": "code",
   "execution_count": 2,
   "metadata": {},
   "outputs": [],
   "source": [
    "# w = [3, 3, 11, 13, -11, 6, 15, 7, 9]\n",
    "# bias = -204\n",
    "\n",
    "# w = [32, 20, 8, 1, -4, 10, 15, 6, 26]\n",
    "# bias = -437\n",
    "\n",
    "# w = [3.3000000000003893,\n",
    "#  2.1000000000001706,\n",
    "#  1.0999999999998902,\n",
    "#  1.2000000000002213,\n",
    "#  -0.6999999999999805,\n",
    "#  2.0000000000000218,\n",
    "#  1.5999999999998342,\n",
    "#  -0.1000000000000082,\n",
    "#  2.799999999999891,]\n",
    "# bias = -44.600000000000364\n",
    "\n",
    "w = [2.799999999999999,\n",
    " 2.800000000000004,\n",
    " 1.5999999999999797,\n",
    " 0.2000000000000084,\n",
    " 5.551115123125783e-15,\n",
    " 0.9999999999999885,\n",
    " -1.404432126150823e-14,\n",
    " -0.20000000000000395,\n",
    " 0.500000000000006]\n",
    "bias = -33.60000000000021\n",
    "res = []"
   ]
  },
  {
   "cell_type": "code",
   "execution_count": 3,
   "metadata": {},
   "outputs": [],
   "source": [
    "def matrixCarpimi(w, matrix): return [w[i]*matrix[i] for i in range(len(w))]"
   ]
  },
  {
   "cell_type": "code",
   "execution_count": 4,
   "metadata": {},
   "outputs": [],
   "source": [
    "for values in x_train.values:\n",
    "    if sum(matrixCarpimi(w,values)) + bias <= 0:\n",
    "        res.append(2)\n",
    "    else:\n",
    "        res.append(4)"
   ]
  },
  {
   "cell_type": "code",
   "execution_count": 5,
   "metadata": {},
   "outputs": [
    {
     "data": {
      "text/plain": [
       "346"
      ]
     },
     "execution_count": 5,
     "metadata": {},
     "output_type": "execute_result"
    }
   ],
   "source": [
    "y_train.values.tolist().count(2)"
   ]
  },
  {
   "cell_type": "code",
   "execution_count": 6,
   "metadata": {},
   "outputs": [
    {
     "data": {
      "text/plain": [
       "204"
      ]
     },
     "execution_count": 6,
     "metadata": {},
     "output_type": "execute_result"
    }
   ],
   "source": [
    "y_train.values.tolist().count(4)"
   ]
  },
  {
   "cell_type": "code",
   "execution_count": 7,
   "metadata": {},
   "outputs": [
    {
     "data": {
      "text/plain": [
       "351"
      ]
     },
     "execution_count": 7,
     "metadata": {},
     "output_type": "execute_result"
    }
   ],
   "source": [
    "res.count(2)"
   ]
  },
  {
   "cell_type": "code",
   "execution_count": 8,
   "metadata": {},
   "outputs": [
    {
     "data": {
      "text/plain": [
       "199"
      ]
     },
     "execution_count": 8,
     "metadata": {},
     "output_type": "execute_result"
    }
   ],
   "source": [
    "res.count(4)"
   ]
  }
 ],
 "metadata": {
  "kernelspec": {
   "display_name": "Python 3.9.13 ('datascience')",
   "language": "python",
   "name": "python3"
  },
  "language_info": {
   "codemirror_mode": {
    "name": "ipython",
    "version": 3
   },
   "file_extension": ".py",
   "mimetype": "text/x-python",
   "name": "python",
   "nbconvert_exporter": "python",
   "pygments_lexer": "ipython3",
   "version": "3.9.13"
  },
  "orig_nbformat": 4,
  "vscode": {
   "interpreter": {
    "hash": "431952e8195d73cd39404705109eaefd639dd3fb8d4e9cb1f35f6f6a5f324ad3"
   }
  }
 },
 "nbformat": 4,
 "nbformat_minor": 2
}
